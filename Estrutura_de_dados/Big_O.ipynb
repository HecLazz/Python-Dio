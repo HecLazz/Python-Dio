{
 "cells": [
  {
   "cell_type": "code",
   "execution_count": null,
   "metadata": {},
   "outputs": [
    {
     "name": "stdout",
     "output_type": "stream",
     "text": [
      "CPU times: total: 0 ns\n",
      "Wall time: 0 ns\n",
      "[1, 2, 3]\n",
      "[2, 1, 3]\n",
      "[3, 1, 2]\n",
      "[1, 3, 2]\n",
      "[2, 3, 1]\n",
      "[3, 2, 1]\n"
     ]
    }
   ],
   "source": [
    "# O(n!)\n",
    "# This is the Heap's algorithm, which is used for generating all possibile permutation of n objects\n",
    "# Another example could be the Travelling Salesman Problem\n",
    "\n",
    "%time\n",
    "def Permutation(data, n):\n",
    "    if n == 1:\n",
    "        print(data)\n",
    "        return\n",
    "    for i in range(n):\n",
    "        Permutation(data, n -1)\n",
    "        if n % 2 == 0:\n",
    "            data[i], data[n-1] = data[n-1], data[i]\n",
    "        else:\n",
    "            data[0], data[n-1] = data[n-1], data[0]\n",
    "data = [1, 2, 3]\n",
    "Permutation(data,len(data))\n",
    "# 3x2x1 = 6 = 3!\n",
    "\n",
    "# Permutação: N° de elementos = N° de Posições"
   ]
  },
  {
   "cell_type": "code",
   "execution_count": 11,
   "metadata": {},
   "outputs": [
    {
     "name": "stdout",
     "output_type": "stream",
     "text": [
      "CPU times: total: 0 ns\n",
      "Wall time: 0 ns\n",
      "55\n"
     ]
    }
   ],
   "source": [
    "# O(2^n)\n",
    "# Recursive calculation of Fibonacci numbers\n",
    "\n",
    "%time\n",
    "def fibonacci(posicao):\n",
    "    if posicao <= 1:\n",
    "        return posicao\n",
    "    return fibonacci(posicao-1)+fibonacci(posicao-2)\n",
    "print(fibonacci(10))\n",
    "# SEQUÊNCIA FIBONACCI: 0 1 1 2 3 5 8 13 21 34 55 89 ...\n",
    "#             Posição:   1 2 3 4 5 6 7  8  9  10 11 ...\n",
    "# Valor futuro = n + n(anterior)\n"
   ]
  },
  {
   "cell_type": "code",
   "execution_count": null,
   "metadata": {},
   "outputs": [],
   "source": [
    "# O(n^2)\n",
    "# Print pair of numbers in the data\n",
    "%time\n",
    "def Print_pair(some_list):\n",
    "    for i in some_list:\n",
    "        for j in some_list:\n",
    "            print(f\"Items: {i},{j}\")\n",
    "Print_pair(1,2,3,4)"
   ]
  },
  {
   "cell_type": "code",
   "execution_count": 12,
   "metadata": {},
   "outputs": [
    {
     "name": "stdout",
     "output_type": "stream",
     "text": [
      "CPU times: total: 0 ns\n",
      "Wall time: 0 ns\n",
      "1\n",
      "2\n",
      "3\n",
      "4\n"
     ]
    }
   ],
   "source": [
    "# O(n)\n",
    "# Just print some itens\n",
    "\n",
    "%time\n",
    "def Print_Item(data):\n",
    "    for i in data:\n",
    "        print(i)\n",
    "Print_Item([1,2,3,4])"
   ]
  },
  {
   "cell_type": "code",
   "execution_count": 13,
   "metadata": {},
   "outputs": [
    {
     "name": "stdout",
     "output_type": "stream",
     "text": [
      "CPU times: total: 0 ns\n",
      "Wall time: 0 ns\n"
     ]
    },
    {
     "data": {
      "text/plain": [
       "5"
      ]
     },
     "execution_count": 13,
     "metadata": {},
     "output_type": "execute_result"
    }
   ],
   "source": [
    "# O(n)\n",
    "# Linear search\n",
    "%time\n",
    "def Linear_Search(data,value):\n",
    "    for index in range(len(data)):\n",
    "        if value == data[index]:\n",
    "            return index\n",
    "    raise ValueError(\"Value not found in the list\")\n",
    "data = [1,3,7,4,5,9,0,11]\n",
    "Linear_Search(data, 9)"
   ]
  }
 ],
 "metadata": {
  "kernelspec": {
   "display_name": "Python 3",
   "language": "python",
   "name": "python3"
  },
  "language_info": {
   "codemirror_mode": {
    "name": "ipython",
    "version": 3
   },
   "file_extension": ".py",
   "mimetype": "text/x-python",
   "name": "python",
   "nbconvert_exporter": "python",
   "pygments_lexer": "ipython3",
   "version": "3.12.1"
  }
 },
 "nbformat": 4,
 "nbformat_minor": 2
}
