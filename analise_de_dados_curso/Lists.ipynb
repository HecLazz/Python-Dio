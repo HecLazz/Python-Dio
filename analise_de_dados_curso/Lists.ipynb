{
 "cells": [
  {
   "cell_type": "markdown",
   "metadata": {},
   "source": [
    "# Python for Data 5: Lists\n",
    "\n",
    "### List Basic\n",
    "Uma lista é um coleção de objetos mutáveis. \"Mutável\" significa que você pode alterar a lista depois que ela foi criada.</br>\n",
    "Por exemplo, adicionar ou remover um novo item.<br>\n",
    "Listas são heterogênea, significa ter objetos de diferentes tipos."
   ]
  },
  {
   "cell_type": "code",
   "execution_count": 1,
   "metadata": {},
   "outputs": [
    {
     "name": "stdout",
     "output_type": "stream",
     "text": [
      "['Lesson', 5, 'Is fun?', True]\n"
     ]
    }
   ],
   "source": [
    "my_list = [\"Lesson\", 5, \"Is fun?\", True]\n",
    "print(my_list)"
   ]
  },
  {
   "cell_type": "markdown",
   "metadata": {},
   "source": [
    "Você pode contruir uma lista passando outro interável na list() "
   ]
  },
  {
   "cell_type": "code",
   "execution_count": 2,
   "metadata": {},
   "outputs": [
    {
     "name": "stdout",
     "output_type": "stream",
     "text": [
      "['L', 'i', 'f', 'e', ' ', 'i', 's', ' ', 's', 't', 'u', 'd', 'y']\n"
     ]
    }
   ],
   "source": [
    "second_list = list(\"Life is study\") # Separa cada letra de string\n",
    "print(second_list)"
   ]
  },
  {
   "cell_type": "markdown",
   "metadata": {},
   "source": [
    "Você pode criar também uma lista sem informação alguma."
   ]
  },
  {
   "cell_type": "code",
   "execution_count": 3,
   "metadata": {},
   "outputs": [
    {
     "name": "stdout",
     "output_type": "stream",
     "text": [
      "[]\n"
     ]
    }
   ],
   "source": [
    "empty_list = []\n",
    "print(empty_list)"
   ]
  },
  {
   "cell_type": "markdown",
   "metadata": {},
   "source": [
    "Pode adicionar um item em uma lista já contruida usando o comando list.append()."
   ]
  },
  {
   "cell_type": "code",
   "execution_count": 4,
   "metadata": {},
   "outputs": [
    {
     "name": "stdout",
     "output_type": "stream",
     "text": [
      "[\"I'm no longer empty!\"]\n"
     ]
    }
   ],
   "source": [
    "empty_list.append(\"I'm no longer empty!\")\n",
    "print(empty_list)"
   ]
  },
  {
   "cell_type": "markdown",
   "metadata": {},
   "source": [
    "Pode remover algum item da lista usando list.remove()"
   ]
  },
  {
   "cell_type": "code",
   "execution_count": 5,
   "metadata": {},
   "outputs": [
    {
     "name": "stdout",
     "output_type": "stream",
     "text": [
      "['Lesson', 'Is fun?', True]\n"
     ]
    }
   ],
   "source": [
    "my_list.remove(5) # Se tiver mais de 1 item repetido ele vai remover apenas 1 deles\n",
    "print(my_list)"
   ]
  },
  {
   "cell_type": "markdown",
   "metadata": {},
   "source": [
    "Juntar duas listas usando o operador +"
   ]
  },
  {
   "cell_type": "code",
   "execution_count": 6,
   "metadata": {},
   "outputs": [
    {
     "name": "stdout",
     "output_type": "stream",
     "text": [
      "['Lesson', 'Is fun?', True, \"I'm no longer empty!\"]\n"
     ]
    }
   ],
   "source": [
    "combined_list = my_list + empty_list\n",
    "print(combined_list)"
   ]
  },
  {
   "cell_type": "markdown",
   "metadata": {},
   "source": [
    "Você pode adicionar a no final da lista a sequência de outra lista"
   ]
  },
  {
   "cell_type": "code",
   "execution_count": 7,
   "metadata": {},
   "outputs": [
    {
     "name": "stdout",
     "output_type": "stream",
     "text": [
      "['Lesson', 'Is fun?', True, \"I'm no longer empty!\"]\n"
     ]
    }
   ],
   "source": [
    "combined_list = my_list\n",
    "combined_list.extend(empty_list)\n",
    "print(combined_list)"
   ]
  },
  {
   "cell_type": "markdown",
   "metadata": {},
   "source": [
    "Checar o tamanho da lista, o valor máximo, mínimo e a soma de uma lista usando len(), max(), min() and sum()."
   ]
  },
  {
   "cell_type": "code",
   "execution_count": 8,
   "metadata": {},
   "outputs": [
    {
     "name": "stdout",
     "output_type": "stream",
     "text": [
      "5\n",
      "9\n",
      "1\n",
      "25\n",
      "5.0\n"
     ]
    }
   ],
   "source": [
    "num_list = [1, 3, 5, 7, 9]\n",
    "print(len(num_list))\n",
    "print(max(num_list))\n",
    "print(min(num_list))\n",
    "print(sum(num_list))\n",
    "print(sum(num_list)/len(num_list)) # consegue tirar a média da lista"
   ]
  },
  {
   "cell_type": "markdown",
   "metadata": {},
   "source": [
    "Você pode verificar se um objeto está contido na lista."
   ]
  },
  {
   "cell_type": "code",
   "execution_count": 10,
   "metadata": {},
   "outputs": [
    {
     "data": {
      "text/plain": [
       "True"
      ]
     },
     "execution_count": 10,
     "metadata": {},
     "output_type": "execute_result"
    }
   ],
   "source": [
    "1 in num_list # True se tem na lista"
   ]
  },
  {
   "cell_type": "code",
   "execution_count": 11,
   "metadata": {},
   "outputs": [
    {
     "data": {
      "text/plain": [
       "False"
      ]
     },
     "execution_count": 11,
     "metadata": {},
     "output_type": "execute_result"
    }
   ],
   "source": [
    "1 not in num_list # True se NÃO tem na lista"
   ]
  },
  {
   "cell_type": "markdown",
   "metadata": {},
   "source": [
    "Conta quantas vezes o mesmo objeto aparece na lista."
   ]
  },
  {
   "cell_type": "code",
   "execution_count": 12,
   "metadata": {},
   "outputs": [
    {
     "data": {
      "text/plain": [
       "1"
      ]
     },
     "execution_count": 12,
     "metadata": {},
     "output_type": "execute_result"
    }
   ],
   "source": [
    "num_list.count(3)"
   ]
  },
  {
   "cell_type": "markdown",
   "metadata": {},
   "source": [
    "Outras funções comum. list.sort() e list.reverse() "
   ]
  },
  {
   "cell_type": "code",
   "execution_count": 16,
   "metadata": {},
   "outputs": [
    {
     "name": "stdout",
     "output_type": "stream",
     "text": [
      "Reversed list  [6, 3, 2, 4, 5, 1]\n",
      "Sorted list  [1, 2, 3, 4, 5, 6]\n"
     ]
    }
   ],
   "source": [
    "new_list = [1, 5, 4, 2, 3, 6] # nova lista\n",
    "\n",
    "new_list.reverse() # inverte a sequência da lista\n",
    "print(\"Reversed list \", new_list)\n",
    "\n",
    "new_list.sort() # Ordena a lista\n",
    "print(\"Sorted list \", new_list)"
   ]
  },
  {
   "cell_type": "markdown",
   "metadata": {},
   "source": [
    "### List indexing and Slicing\n",
    "\n",
    "Lista e outras sequências em python são indexadas, signifca que cada posição na sequência tem um número correspondente chamado index, que você pode usar para verificar o valor naquela posição.<br>\n",
    "O primeiro elemento da sequencia é 0, o segundo 1 e por ai vai."
   ]
  },
  {
   "cell_type": "code",
   "execution_count": 17,
   "metadata": {},
   "outputs": [
    {
     "name": "stdout",
     "output_type": "stream",
     "text": [
      "hello\n",
      "bestest\n"
     ]
    }
   ],
   "source": [
    "another_list = [\"hello\", \"my\", \"bestest\", \"old\", \"friend\"]\n",
    "\n",
    "print(another_list[0])\n",
    "print(another_list[2])"
   ]
  },
  {
   "cell_type": "markdown",
   "metadata": {},
   "source": [
    "Se você adicionar um número negativo no index, conseguirá acessar o final da lista."
   ]
  },
  {
   "cell_type": "code",
   "execution_count": 18,
   "metadata": {},
   "outputs": [
    {
     "name": "stdout",
     "output_type": "stream",
     "text": [
      "friend\n",
      "bestest\n"
     ]
    }
   ],
   "source": [
    "print(another_list[-1])\n",
    "print(another_list[-3])"
   ]
  },
  {
   "cell_type": "markdown",
   "metadata": {},
   "source": [
    "Supondo que você colocar um valor maior que o index que tem na lista, vai dar erro (IndexError)"
   ]
  },
  {
   "cell_type": "code",
   "execution_count": 19,
   "metadata": {},
   "outputs": [
    {
     "ename": "IndexError",
     "evalue": "list index out of range",
     "output_type": "error",
     "traceback": [
      "\u001b[1;31m---------------------------------------------------------------------------\u001b[0m",
      "\u001b[1;31mIndexError\u001b[0m                                Traceback (most recent call last)",
      "Cell \u001b[1;32mIn[19], line 1\u001b[0m\n\u001b[1;32m----> 1\u001b[0m \u001b[38;5;28mprint\u001b[39m(\u001b[43manother_list\u001b[49m\u001b[43m[\u001b[49m\u001b[38;5;241;43m5\u001b[39;49m\u001b[43m]\u001b[49m)\n",
      "\u001b[1;31mIndexError\u001b[0m: list index out of range"
     ]
    }
   ],
   "source": [
    "print(another_list[5])"
   ]
  },
  {
   "cell_type": "markdown",
   "metadata": {},
   "source": [
    "Se você tiver um lista com objetos indexados, poderá acessá-los usando mais 1 [ ]."
   ]
  },
  {
   "cell_type": "code",
   "execution_count": 21,
   "metadata": {},
   "outputs": [
    {
     "name": "stdout",
     "output_type": "stream",
     "text": [
      "3\n"
     ]
    }
   ],
   "source": [
    "nested_list =[[1,2,3],[4,5,6],[7,8,9]]\n",
    "print(nested_list[0][2])"
   ]
  },
  {
   "cell_type": "markdown",
   "metadata": {},
   "source": [
    "Você pode usar o comando [ : ] significa [start:stop:step] onde start and stop são referente ao index colocado."
   ]
  },
  {
   "cell_type": "code",
   "execution_count": 22,
   "metadata": {},
   "outputs": [
    {
     "name": "stdout",
     "output_type": "stream",
     "text": [
      "['my', 'bestest']\n"
     ]
    }
   ],
   "source": [
    "my_slice = another_list[1:3] # corta no index 1 e 3\n",
    "print(my_slice)"
   ]
  },
  {
   "cell_type": "code",
   "execution_count": 23,
   "metadata": {},
   "outputs": [
    {
     "name": "stdout",
     "output_type": "stream",
     "text": [
      "['hello', 'bestest', 'friend']\n"
     ]
    }
   ],
   "source": [
    "my_slice = another_list[0:6:2] # vai do index 0 ao 6, pulando de 2 em 2\n",
    "print(my_slice)"
   ]
  },
  {
   "cell_type": "markdown",
   "metadata": {},
   "source": [
    "Você pode deixar em branco o começo ou final indicando que deverá ir até o final, ou pegar o começo inteiro"
   ]
  },
  {
   "cell_type": "code",
   "execution_count": 24,
   "metadata": {},
   "outputs": [
    {
     "name": "stdout",
     "output_type": "stream",
     "text": [
      "['hello', 'my', 'bestest', 'old']\n"
     ]
    }
   ],
   "source": [
    "slice1 = another_list[:4] # começa do 0 e para no 4\n",
    "print(slice1)"
   ]
  },
  {
   "cell_type": "code",
   "execution_count": 25,
   "metadata": {},
   "outputs": [
    {
     "name": "stdout",
     "output_type": "stream",
     "text": [
      "['old', 'friend']\n"
     ]
    }
   ],
   "source": [
    "slice2 = another_list[3:] # começa no index 3 e vai até o final\n",
    "print(slice2)"
   ]
  },
  {
   "cell_type": "markdown",
   "metadata": {},
   "source": [
    "Se você colocar um número negativo no step, o corte vai começar de trás pra frente"
   ]
  },
  {
   "cell_type": "code",
   "execution_count": 26,
   "metadata": {},
   "outputs": [
    {
     "name": "stdout",
     "output_type": "stream",
     "text": [
      "['friend', 'old']\n"
     ]
    }
   ],
   "source": [
    "my_slice = another_list[4:2:-1]\n",
    "print(my_slice)"
   ]
  },
  {
   "cell_type": "markdown",
   "metadata": {},
   "source": [
    "Você pode usar o index para mudar o valor da lista ou deleta-lo."
   ]
  },
  {
   "cell_type": "code",
   "execution_count": 27,
   "metadata": {},
   "outputs": [
    {
     "name": "stdout",
     "output_type": "stream",
     "text": [
      "['hello', 'my', 'bestest', 'new', 'friend']\n",
      "['hello', 'my', 'bestest', 'friend']\n"
     ]
    }
   ],
   "source": [
    "another_list[3] = \"new\"\n",
    "print(another_list)\n",
    "\n",
    "del(another_list[3])\n",
    "print(another_list)"
   ]
  },
  {
   "cell_type": "markdown",
   "metadata": {},
   "source": [
    "Você pode remover itens da lista usando list.pop(), esse comando remove o item final da lista."
   ]
  },
  {
   "cell_type": "code",
   "execution_count": 29,
   "metadata": {},
   "outputs": [
    {
     "name": "stdout",
     "output_type": "stream",
     "text": [
      "bestest\n",
      "['hello', 'my']\n"
     ]
    }
   ],
   "source": [
    "next_item = another_list.pop()\n",
    "\n",
    "print(next_item) # o comando pop remove e adiciona na variável que foi atribuida no comando\n",
    "print(another_list)"
   ]
  },
  {
   "cell_type": "markdown",
   "metadata": {},
   "source": [
    "## Copying lists\n",
    "Você pode copiar uma lista inteira usando o comando list.copy()."
   ]
  },
  {
   "cell_type": "code",
   "execution_count": 30,
   "metadata": {},
   "outputs": [
    {
     "name": "stdout",
     "output_type": "stream",
     "text": [
      "list1:  [1, 2, 3, 4]\n",
      "list2:  [1, 2, 3]\n"
     ]
    }
   ],
   "source": [
    "list1 = [1,2,3] # Criar a lista\n",
    "list2 = list1.copy() # copiar a list1 para a list2\n",
    "\n",
    "list1.append(4) # Adicionar item na lista original não irá adicionar na copia\n",
    "\n",
    "print(\"list1: \", list1)\n",
    "print(\"list2: \", list2)"
   ]
  },
  {
   "cell_type": "code",
   "execution_count": 32,
   "metadata": {},
   "outputs": [
    {
     "name": "stdout",
     "output_type": "stream",
     "text": [
      "before appending to list1\n",
      "list2:  ['List within a list ', [1, 2, 3]]\n",
      "list3:  ['List within a list ', [1, 2, 3]]\n",
      "After appending to list1\n",
      "list2:  ['List within a list ', [1, 2, 3, 4]]\n",
      "list3:  ['List within a list ', [1, 2, 3, 4]]\n"
     ]
    }
   ],
   "source": [
    "list1 = [1,2,3]\n",
    "list2 = [\"List within a list \", list1]\n",
    "list3 = list2.copy()\n",
    "\n",
    "print(\"before appending to list1\")\n",
    "print(\"list2: \",list2)\n",
    "print(\"list3: \",list3)\n",
    "\n",
    "list1.append(4)\n",
    "print(\"After appending to list1\")\n",
    "print(\"list2: \", list2) # o numero 4 foi copiado também porque a list1 está dentro da list2\n",
    "print(\"list3: \", list3)"
   ]
  },
  {
   "cell_type": "code",
   "execution_count": 33,
   "metadata": {},
   "outputs": [
    {
     "name": "stdout",
     "output_type": "stream",
     "text": [
      "before appending to list1\n",
      "list2:  ['List within a list ', [1, 2, 3]]\n",
      "list3:  ['List within a list ', [1, 2, 3]]\n",
      "After appending to list1\n",
      "list2:  ['List within a list ', [1, 2, 3, 4]]\n",
      "list3:  ['List within a list ', [1, 2, 3]]\n"
     ]
    }
   ],
   "source": [
    "import copy\n",
    "\n",
    "list1 = [1,2,3]\n",
    "list2 = [\"List within a list \", list1]\n",
    "list3 = copy.deepcopy(list2) # Deepcopy vai copiar apenas oque tem na lista mesmo tento o objeto \"list1\" \n",
    "\n",
    "print(\"before appending to list1\")\n",
    "print(\"list2: \",list2)\n",
    "print(\"list3: \",list3)\n",
    "\n",
    "list1.append(4)\n",
    "print(\"After appending to list1\")\n",
    "print(\"list2: \", list2) # o numero 4 foi copiado também porque a list1 está dentro da list2\n",
    "print(\"list3: \", list3) # O numero 4 n vai para a 3 por conta do deepcopy"
   ]
  }
 ],
 "metadata": {
  "kernelspec": {
   "display_name": "Python 3",
   "language": "python",
   "name": "python3"
  },
  "language_info": {
   "codemirror_mode": {
    "name": "ipython",
    "version": 3
   },
   "file_extension": ".py",
   "mimetype": "text/x-python",
   "name": "python",
   "nbconvert_exporter": "python",
   "pygments_lexer": "ipython3",
   "version": "3.12.1"
  }
 },
 "nbformat": 4,
 "nbformat_minor": 2
}
