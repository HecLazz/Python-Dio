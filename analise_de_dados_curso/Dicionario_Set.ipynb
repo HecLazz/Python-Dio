{
 "cells": [
  {
   "cell_type": "markdown",
   "metadata": {},
   "source": [
    "# Dicionário\n",
    "A dictionary or dict is an object that maps a set of named indexes keys to a set of corresponding values. Dictionaries are mutable, so you can add and remove keys and their associated value. A dictionary's keys must be immutable objects, such as ints, strings or tuples, but the values can be anythin."
   ]
  },
  {
   "cell_type": "code",
   "execution_count": 6,
   "metadata": {},
   "outputs": [
    {
     "name": "stdout",
     "output_type": "stream",
     "text": [
      "{'name': 'Joe', 'age': 10, 'city': 'Paris'}\n"
     ]
    }
   ],
   "source": [
    "my_dict = {\"name\":\"Joe\",\n",
    "           \"age\": 10,\n",
    "           \"city\": \"Paris\"}\n",
    "print(my_dict)"
   ]
  },
  {
   "cell_type": "code",
   "execution_count": 7,
   "metadata": {},
   "outputs": [
    {
     "data": {
      "text/plain": [
       "'Joe'"
      ]
     },
     "execution_count": 7,
     "metadata": {},
     "output_type": "execute_result"
    }
   ],
   "source": [
    "# Ler apenas um chave de dict\n",
    "my_dict[\"name\"]"
   ]
  },
  {
   "cell_type": "code",
   "execution_count": 8,
   "metadata": {},
   "outputs": [
    {
     "name": "stdout",
     "output_type": "stream",
     "text": [
      "{'name': 'Joe', 'age': 10, 'city': 'Paris', 'new_key': 'new_value'}\n"
     ]
    }
   ],
   "source": [
    "# Adicionar itens a um dict existente\n",
    "my_dict[\"new_key\"] = \"new_value\"\n",
    "print(my_dict)"
   ]
  },
  {
   "cell_type": "code",
   "execution_count": 9,
   "metadata": {},
   "outputs": [
    {
     "name": "stdout",
     "output_type": "stream",
     "text": [
      "{'name': 'Joe', 'age': 10, 'city': 'Paris'}\n"
     ]
    }
   ],
   "source": [
    "# Remover item\n",
    "del my_dict[\"new_key\"]\n",
    "print(my_dict)"
   ]
  },
  {
   "cell_type": "code",
   "execution_count": 10,
   "metadata": {},
   "outputs": [
    {
     "data": {
      "text/plain": [
       "3"
      ]
     },
     "execution_count": 10,
     "metadata": {},
     "output_type": "execute_result"
    }
   ],
   "source": [
    "# Ver quantidade de itens\n",
    "len(my_dict)"
   ]
  },
  {
   "cell_type": "code",
   "execution_count": 12,
   "metadata": {},
   "outputs": [
    {
     "data": {
      "text/plain": [
       "True"
      ]
     },
     "execution_count": 12,
     "metadata": {},
     "output_type": "execute_result"
    }
   ],
   "source": [
    "# ver se um chave especifica existe no dict\n",
    "\"name\" in my_dict"
   ]
  },
  {
   "cell_type": "code",
   "execution_count": 14,
   "metadata": {},
   "outputs": [
    {
     "data": {
      "text/plain": [
       "dict_values(['Joe', 10, 'Paris'])"
      ]
     },
     "execution_count": 14,
     "metadata": {},
     "output_type": "execute_result"
    }
   ],
   "source": [
    "# Mostra as chaves\n",
    "my_dict.keys()"
   ]
  },
  {
   "cell_type": "code",
   "execution_count": 15,
   "metadata": {},
   "outputs": [
    {
     "data": {
      "text/plain": [
       "dict_values(['Joe', 10, 'Paris'])"
      ]
     },
     "execution_count": 15,
     "metadata": {},
     "output_type": "execute_result"
    }
   ],
   "source": [
    "# Mostra os valores da chaves\n",
    "my_dict.values()"
   ]
  },
  {
   "cell_type": "code",
   "execution_count": 16,
   "metadata": {},
   "outputs": [
    {
     "data": {
      "text/plain": [
       "dict_items([('name', 'Joe'), ('age', 10), ('city', 'Paris')])"
      ]
     },
     "execution_count": 16,
     "metadata": {},
     "output_type": "execute_result"
    }
   ],
   "source": [
    "# mostra os itens da lista\n",
    "my_dict.items()"
   ]
  },
  {
   "cell_type": "code",
   "execution_count": 18,
   "metadata": {},
   "outputs": [
    {
     "data": {
      "text/plain": [
       "{'name': ['Joe', 'Bob', 'Harry'],\n",
       " 'age': [10, 15, 20],\n",
       " 'city': ['Paris', 'New York', 'Tokyo']}"
      ]
     },
     "metadata": {},
     "output_type": "display_data"
    }
   ],
   "source": [
    "# Dicionario em formato de colunas\n",
    "my_table_dict = {\"name\": [\"Joe\", \"Bob\", \"Harry\"],\n",
    "                 \"age\": [10,15,20],\n",
    "                 \"city\": [\"Paris\", \"New York\", \"Tokyo\"]}\n",
    "display(my_table_dict)"
   ]
  }
 ],
 "metadata": {
  "kernelspec": {
   "display_name": "Python 3",
   "language": "python",
   "name": "python3"
  },
  "language_info": {
   "codemirror_mode": {
    "name": "ipython",
    "version": 3
   },
   "file_extension": ".py",
   "mimetype": "text/x-python",
   "name": "python",
   "nbconvert_exporter": "python",
   "pygments_lexer": "ipython3",
   "version": "3.12.1"
  }
 },
 "nbformat": 4,
 "nbformat_minor": 2
}
