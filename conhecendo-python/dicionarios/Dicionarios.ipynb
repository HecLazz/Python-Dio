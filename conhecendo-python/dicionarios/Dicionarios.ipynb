{
 "cells": [
  {
   "cell_type": "markdown",
   "metadata": {},
   "source": [
    "# Criando dicionários\n",
    "Um dicionário é um conjunto não-ordenado de pares chaves:valor, onde as chaves são únicas em uma dada instância do dicionário. Dicionários são delimitados por chaves: {}, e contém uma lista de pares chaves:valor separada por vírgulas"
   ]
  },
  {
   "cell_type": "code",
   "execution_count": 1,
   "metadata": {},
   "outputs": [],
   "source": [
    "# Exemplo\n",
    "pessoa = {\n",
    "    \"nome\":\"Guilherme\",\n",
    "    \"idade\":28\n",
    "}\n",
    "\n",
    "pessoa_2 = dict(nome=\"guilherme\", idade=28) # ambos são valores equivalente\n",
    "\n",
    "pessoa[\"telefone\"] = \"1234-5678\""
   ]
  },
  {
   "cell_type": "code",
   "execution_count": 3,
   "metadata": {},
   "outputs": [
    {
     "data": {
      "text/plain": [
       "30"
      ]
     },
     "metadata": {},
     "output_type": "display_data"
    },
    {
     "data": {
      "text/plain": [
       "'Jorge'"
      ]
     },
     "metadata": {},
     "output_type": "display_data"
    },
    {
     "data": {
      "text/plain": [
       "'3333-4444'"
      ]
     },
     "metadata": {},
     "output_type": "display_data"
    },
    {
     "data": {
      "text/plain": [
       "{'nome': 'maria', 'idade': 24, 'telefone': '11111-2222'}"
      ]
     },
     "metadata": {},
     "output_type": "display_data"
    }
   ],
   "source": [
    "# Acessando valores\n",
    "dados = {\n",
    "    \"nome\":\"Jorge\",\n",
    "    \"idade\":30,\n",
    "    \"telefone\":\"3333-4444\"\n",
    "}\n",
    "\n",
    "display(dados[\"idade\"])\n",
    "display(dados[\"nome\"])\n",
    "display(dados[\"telefone\"])\n",
    "\n",
    "# sobrescrever o valor\n",
    "dados[\"idade\"] = 24\n",
    "dados[\"nome\"] = \"maria\"\n",
    "dados[\"telefone\"] = \"11111-2222\"\n",
    "\n",
    "display(dados)"
   ]
  },
  {
   "cell_type": "markdown",
   "metadata": {},
   "source": [
    "## Dicionários aninhados\n",
    "Dicionários podem armazenar qualquer tipo de objeto Python como valor, desde que a chave para esse valor seja um objeto imutável como (strings e números)."
   ]
  },
  {
   "cell_type": "code",
   "execution_count": 5,
   "metadata": {},
   "outputs": [
    {
     "data": {
      "text/plain": [
       "'2342-4325'"
      ]
     },
     "metadata": {},
     "output_type": "display_data"
    }
   ],
   "source": [
    "contatos = {\n",
    "    \"guilherme@gmail.com\" : {\"nome\": \"guilherme\", \"telefone\":\"1234-2353\"},\n",
    "    \"giovana@gmail.com\" : {\"nome\": \"Giovana\", \"telefone\":\"08763-3566\"},\n",
    "    \"chappie@gmail.com\" : {\"nome\": \"Chappie\", \"telefone\":\"2342-4325\"},\n",
    "    \"melaine@gmail.com\" : {\"nome\": \"Melaine\", \"telefone\":\"2148-3262\"}\n",
    "}\n",
    "\n",
    "telefone = contatos[\"chappie@gmail.com\"][\"telefone\"]\n",
    "display(telefone)"
   ]
  },
  {
   "cell_type": "markdown",
   "metadata": {},
   "source": [
    "## Iterar dicionários\n",
    "\n",
    "A forma mais comum para percorrer os dados de um dicionário é utilizando o comando for"
   ]
  },
  {
   "cell_type": "code",
   "execution_count": 6,
   "metadata": {},
   "outputs": [
    {
     "name": "stdout",
     "output_type": "stream",
     "text": [
      "guilherme@gmail.com {'nome': 'guilherme', 'telefone': '1234-2353'}\n",
      "giovana@gmail.com {'nome': 'Giovana', 'telefone': '08763-3566'}\n",
      "chappie@gmail.com {'nome': 'Chappie', 'telefone': '2342-4325'}\n",
      "melaine@gmail.com {'nome': 'Melaine', 'telefone': '2148-3262'}\n"
     ]
    }
   ],
   "source": [
    "for chave, valor in contatos.items():\n",
    "    print(chave, valor)"
   ]
  },
  {
   "cell_type": "markdown",
   "metadata": {},
   "source": [
    "## Métodos dict"
   ]
  },
  {
   "cell_type": "code",
   "execution_count": 8,
   "metadata": {},
   "outputs": [
    {
     "data": {
      "text/plain": [
       "{}"
      ]
     },
     "metadata": {},
     "output_type": "display_data"
    }
   ],
   "source": [
    "# clear\n",
    "\n",
    "contatos = {\n",
    "    \"guilherme@gmail.com\" : {\"nome\": \"guilherme\", \"telefone\":\"1234-2353\"},\n",
    "    \"giovana@gmail.com\" : {\"nome\": \"Giovana\", \"telefone\":\"08763-3566\"},\n",
    "    \"chappie@gmail.com\" : {\"nome\": \"Chappie\", \"telefone\":\"2342-4325\"},\n",
    "    \"melaine@gmail.com\" : {\"nome\": \"Melaine\", \"telefone\":\"2148-3262\"}\n",
    "}\n",
    "\n",
    "contatos.clear()\n",
    "display(contatos)"
   ]
  },
  {
   "cell_type": "code",
   "execution_count": 9,
   "metadata": {},
   "outputs": [
    {
     "data": {
      "text/plain": [
       "{'nome': 'guilherme', 'telefone': '1234-2353'}"
      ]
     },
     "metadata": {},
     "output_type": "display_data"
    },
    {
     "data": {
      "text/plain": [
       "{'nome': 'Gui'}"
      ]
     },
     "metadata": {},
     "output_type": "display_data"
    }
   ],
   "source": [
    "contatos = {\"guilherme@gmail.com\" : {\"nome\": \"guilherme\", \"telefone\":\"1234-2353\"}}\n",
    "\n",
    "copia = contatos.copy()\n",
    "\n",
    "copia[\"guilherme@gmail.com\"] = {\"nome\":\"Gui\"}\n",
    "display(contatos[\"guilherme@gmail.com\"])\n",
    "display(copia[\"guilherme@gmail.com\"])"
   ]
  },
  {
   "cell_type": "code",
   "execution_count": 1,
   "metadata": {},
   "outputs": [
    {
     "data": {
      "text/plain": [
       "{'nome': 'vazio', 'telefone': 'vazio'}"
      ]
     },
     "execution_count": 1,
     "metadata": {},
     "output_type": "execute_result"
    }
   ],
   "source": [
    "# fromkeys\n",
    "\n",
    "dict.fromkeys([\"nome\", \"telefone\"])\n",
    "dict.fromkeys([\"nome\", \"telefone\"], \"vazio\")\n"
   ]
  },
  {
   "cell_type": "code",
   "execution_count": 9,
   "metadata": {},
   "outputs": [
    {
     "data": {
      "text/plain": [
       "{'nome': 'guilherme', 'telefone': '1234-2353'}"
      ]
     },
     "execution_count": 9,
     "metadata": {},
     "output_type": "execute_result"
    }
   ],
   "source": [
    "contatos = {\"guilherme@gmail.com\" : {\"nome\": \"guilherme\", \"telefone\":\"1234-2353\"}}\n",
    "\n",
    "# contatos[\"chave\"] # KeyError: 'chave'\n",
    "\n",
    "contatos.get(\"chave\") # verifica se existe ou não essa chave no dicionário\n",
    "contatos.get(\"chave\", {}) # irá procurar a chave, caso n encontre , retornará um valor vazio\n",
    "contatos.get(\"guilherme@gmail.com\", {})"
   ]
  },
  {
   "cell_type": "code",
   "execution_count": 10,
   "metadata": {},
   "outputs": [
    {
     "data": {
      "text/plain": [
       "dict_items([('guilherme@gmail.com', {'nome': 'guilherme', 'telefone': '1234-2353'})])"
      ]
     },
     "execution_count": 10,
     "metadata": {},
     "output_type": "execute_result"
    }
   ],
   "source": [
    "# items\n",
    "contatos = {\"guilherme@gmail.com\" : {\"nome\": \"guilherme\", \"telefone\":\"1234-2353\"}}\n",
    "\n",
    "contatos.items() # retorna uma lista de tuplas\n"
   ]
  },
  {
   "cell_type": "code",
   "execution_count": 11,
   "metadata": {},
   "outputs": [
    {
     "data": {
      "text/plain": [
       "dict_keys(['guilherme@gmail.com'])"
      ]
     },
     "execution_count": 11,
     "metadata": {},
     "output_type": "execute_result"
    }
   ],
   "source": [
    "# keys\n",
    "contatos = {\"guilherme@gmail.com\" : {\"nome\": \"guilherme\", \"telefone\":\"1234-2353\"}}\n",
    "\n",
    "contatos.keys()"
   ]
  },
  {
   "cell_type": "code",
   "execution_count": 13,
   "metadata": {},
   "outputs": [
    {
     "data": {
      "text/plain": [
       "{'nome': 'guilherme', 'telefone': '1234-2353'}"
      ]
     },
     "metadata": {},
     "output_type": "display_data"
    },
    {
     "data": {
      "text/plain": [
       "'não encontrou'"
      ]
     },
     "metadata": {},
     "output_type": "display_data"
    }
   ],
   "source": [
    "# pop\n",
    "contatos = {\"guilherme@gmail.com\" : {\"nome\": \"guilherme\", \"telefone\":\"1234-2353\"}}\n",
    "\n",
    "resultado = contatos.pop(\"guilherme@gmail.com\")\n",
    "display(resultado)\n",
    "\n",
    "resultado = contatos.pop(\"guilherme@gmail.com\", \"não encontrou\") # Segundo valor caso o primeiro n tenha mais\n",
    "display(resultado)"
   ]
  },
  {
   "cell_type": "code",
   "execution_count": 16,
   "metadata": {},
   "outputs": [
    {
     "data": {
      "text/plain": [
       "{'nome': 'guilherme', 'telefone': '1234-2353', 'idade': 28}"
      ]
     },
     "metadata": {},
     "output_type": "display_data"
    }
   ],
   "source": [
    "# setdefault\n",
    "contato = {\"nome\": \"guilherme\", \"telefone\":\"1234-2353\"}\n",
    "\n",
    "contato.setdefault(\"nome\", \"Giovanna\") # caso já esteja preenchido o valor é retornado\n",
    "contato.setdefault(\"idade\", 28) # idade n existia no dicionario, então com esse método será adicionado\n",
    "display(contato)"
   ]
  },
  {
   "cell_type": "code",
   "execution_count": 20,
   "metadata": {},
   "outputs": [
    {
     "data": {
      "text/plain": [
       "{'guilherme@gmail.com': {'nome': 'gui'},\n",
       " 'giovanna@gmail.com': {'nome': 'Giovanna', 'telefone': '2222-5555'}}"
      ]
     },
     "metadata": {},
     "output_type": "display_data"
    }
   ],
   "source": [
    "# update\n",
    "contatos = {\"guilherme@gmail.com\" : {\"nome\": \"guilherme\", \"telefone\":\"1234-2353\"}}\n",
    "\n",
    "contatos.update({\"guilherme@gmail.com\": {\"nome\": \"gui\"}})\n",
    "contatos.update({\"giovanna@gmail.com\": {\"nome\": \"Giovanna\", \"telefone\": \"2222-5555\"}})\n",
    "display(contatos)"
   ]
  },
  {
   "cell_type": "code",
   "execution_count": 22,
   "metadata": {},
   "outputs": [
    {
     "data": {
      "text/plain": [
       "dict_values([{'nome': 'guilherme', 'telefone': '1234-2353'}, {'nome': 'Giovana', 'telefone': '08763-3566'}, {'nome': 'Chappie', 'telefone': '2342-4325'}, {'nome': 'Melaine', 'telefone': '2148-3262'}])"
      ]
     },
     "metadata": {},
     "output_type": "display_data"
    }
   ],
   "source": [
    "# values - retorna só os valores atribuidos a chaves\n",
    "contatos = {\n",
    "    \"guilherme@gmail.com\" : {\"nome\": \"guilherme\", \"telefone\":\"1234-2353\"},\n",
    "    \"giovana@gmail.com\" : {\"nome\": \"Giovana\", \"telefone\":\"08763-3566\"},\n",
    "    \"chappie@gmail.com\" : {\"nome\": \"Chappie\", \"telefone\":\"2342-4325\"},\n",
    "    \"melaine@gmail.com\" : {\"nome\": \"Melaine\", \"telefone\":\"2148-3262\"}\n",
    "}\n",
    "\n",
    "display(contatos.values())"
   ]
  },
  {
   "cell_type": "code",
   "execution_count": 29,
   "metadata": {},
   "outputs": [
    {
     "data": {
      "text/plain": [
       "False"
      ]
     },
     "metadata": {},
     "output_type": "display_data"
    }
   ],
   "source": [
    "# in\n",
    "contatos = {\n",
    "    \"guilherme@gmail.com\" : {\"nome\": \"guilherme\", \"telefone\":\"1234-2353\"},\n",
    "    \"giovana@gmail.com\" : {\"nome\": \"Giovana\", \"telefone\":\"08763-3566\"},\n",
    "    \"chappie@gmail.com\" : {\"nome\": \"Chappie\", \"telefone\":\"2342-4325\"},\n",
    "    \"melaine@gmail.com\" : {\"nome\": \"Melaine\", \"telefone\":\"2148-3262\"}\n",
    "}\n",
    "\n",
    "# in = verificação de chaves\n",
    "\n",
    "resultado = \"guilherme@gmail.com\" in contatos\n",
    "resultado = \"nome\" in contatos[\"guilherme@gmail.com\"]\n",
    "resultado = \"idade\" in contatos[\"guilherme@gmail.com\"]\n",
    "display(resultado)"
   ]
  }
 ],
 "metadata": {
  "kernelspec": {
   "display_name": "Python 3",
   "language": "python",
   "name": "python3"
  },
  "language_info": {
   "codemirror_mode": {
    "name": "ipython",
    "version": 3
   },
   "file_extension": ".py",
   "mimetype": "text/x-python",
   "name": "python",
   "nbconvert_exporter": "python",
   "pygments_lexer": "ipython3",
   "version": "3.12.1"
  }
 },
 "nbformat": 4,
 "nbformat_minor": 2
}
