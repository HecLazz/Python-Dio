{
 "cells": [
  {
   "cell_type": "markdown",
   "metadata": {},
   "source": [
    "### Elementos Essenciais:\n",
    "- **\"def\"**: define uma função;\n",
    "- **Nome:** para nossa função;\n",
    "- **Argumentos:** da função \"em parêntesis\": são inputs, e em python, esses elementos são opcionais!\n",
    "- **Processamento:** feito pela função (intruções);\n",
    "- **Return:** -- esses são os outputs, e em python esse elemento é opcional!"
   ]
  },
  {
   "cell_type": "code",
   "execution_count": 1,
   "metadata": {},
   "outputs": [
    {
     "name": "stdout",
     "output_type": "stream",
     "text": [
      "Variável antes de mudar 7\n",
      "Variável dentro da função 13\n",
      "Variável depois de mudar 7\n"
     ]
    }
   ],
   "source": [
    "# funções e variáveis locais\n",
    "var = 7\n",
    "\n",
    "def mudar_e_imprimir():\n",
    "    var = 13 # se tivesse colocado global nessa váriavel o último print seria 13, pois altera a variável do corpo do código inteiro\n",
    "    print(\"Variável dentro da função\", var)\n",
    "\n",
    "print(\"Variável antes de mudar\", var)\n",
    "mudar_e_imprimir()\n",
    "print(\"Variável depois de mudar\",var)"
   ]
  },
  {
   "cell_type": "code",
   "execution_count": 3,
   "metadata": {},
   "outputs": [
    {
     "name": "stdout",
     "output_type": "stream",
     "text": [
      "variável antes de mudar 7\n",
      "Variável dentro da função 13\n",
      "variável depois de mudar 7\n"
     ]
    }
   ],
   "source": [
    "# Função com 1 argumento, mas sem return\n",
    "\n",
    "var = 7\n",
    "novo_valor = 13\n",
    "\n",
    "def mudar(novo_valor):\n",
    "    var = novo_valor\n",
    "    print(\"Variável dentro da função\", var)\n",
    "\n",
    "print(\"variável antes de mudar\", var)\n",
    "mudar(novo_valor)\n",
    "print(\"variável depois de mudar\", var)"
   ]
  },
  {
   "cell_type": "code",
   "execution_count": 6,
   "metadata": {},
   "outputs": [
    {
     "name": "stdout",
     "output_type": "stream",
     "text": [
      "variável antes de mudar 7\n",
      "Variável dentro da função 3\n",
      "variável com novo_valor2 5\n",
      "variável depois de mudar 5\n"
     ]
    }
   ],
   "source": [
    "# 2 argumentos, mas sem return\n",
    "var = 7\n",
    "\n",
    "def mudar(novo_valor1, novo_valor2):\n",
    "    global var\n",
    "    var = novo_valor1\n",
    "    print(\"Variável dentro da função\", var)\n",
    "    var = novo_valor2\n",
    "    print(\"variável com novo_valor2\", var)\n",
    "\n",
    "print(\"variável antes de mudar\", var)\n",
    "mudar(3, 5)\n",
    "print(\"variável depois de mudar\", var)\n"
   ]
  },
  {
   "cell_type": "code",
   "execution_count": 7,
   "metadata": {},
   "outputs": [
    {
     "data": {
      "text/plain": [
       "2.0"
      ]
     },
     "execution_count": 7,
     "metadata": {},
     "output_type": "execute_result"
    }
   ],
   "source": [
    "# Função com return\n",
    "\n",
    "def divisao(num1, num2):\n",
    "    divisao = num1/num2\n",
    "    return divisao\n",
    "\n",
    "divisao(4,2)"
   ]
  },
  {
   "cell_type": "code",
   "execution_count": 10,
   "metadata": {},
   "outputs": [
    {
     "data": {
      "text/plain": [
       "'O número 3 é ímpar'"
      ]
     },
     "execution_count": 10,
     "metadata": {},
     "output_type": "execute_result"
    }
   ],
   "source": [
    "# Função para retornar se é par ou ímpar\n",
    "\n",
    "def verificar(numero):\n",
    "    if numero % 2 == 0:\n",
    "        return f\"O número {numero} é par\"\n",
    "    else:\n",
    "        return f\"O número {numero} é ímpar\"\n",
    "    \n",
    "verificar(3)"
   ]
  }
 ],
 "metadata": {
  "kernelspec": {
   "display_name": "Python 3",
   "language": "python",
   "name": "python3"
  },
  "language_info": {
   "codemirror_mode": {
    "name": "ipython",
    "version": 3
   },
   "file_extension": ".py",
   "mimetype": "text/x-python",
   "name": "python",
   "nbconvert_exporter": "python",
   "pygments_lexer": "ipython3",
   "version": "3.12.1"
  }
 },
 "nbformat": 4,
 "nbformat_minor": 2
}
